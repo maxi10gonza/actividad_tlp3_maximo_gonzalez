{
 "cells": [
  {
   "cell_type": "markdown",
   "id": "498731c6",
   "metadata": {},
   "source": [
    "# Actividad - Trabajando con Series de Pandas.\n",
    "## Criterios de evaluación.\n",
    "\n",
    "* Se deben utilizar nombres de variables descriptivos y claros (Utilizar la nomeclatura correspondiente para los nombres de variables).\n",
    "* Comentarios claros y concisos que expliquen el propósito de cada sección del código.\n",
    "* Utilizar mensajes de commit **descriptivos**. (Puedes utilizar la extension CONVENTIONAL COMMIT de VS-CODE). \n",
    "* Entrega en tiempo y forma.\n",
    "* Todo el código desarrollado debe ser subido a un repositorio en GitHub (el nombre del repositorio de seguir la siguiente estructura: actividad_tlp3_nombre_apellido).\n",
    "* Para resolver las actividades se debe insertar casillas de codigo entre cada actividad del cuaderno de Jupyter\n",
    "\n",
    "### ¡Importante!\n",
    "**El incumplimiento de los criterios de evaluación restará puntos en la nota final del práctico!**"
   ]
  },
  {
   "cell_type": "markdown",
   "id": "b361a7b6",
   "metadata": {},
   "source": [
    "### **Actividad 1:** \n",
    "\n",
    "Crear Series desde diferentes estructuras.\n",
    "* Crea una Series con los números del 1 al 5\n",
    "* Crea una Series a partir de un diccionario con nombres de países como claves y sus capitales como valores."
   ]
  },
  {
   "cell_type": "code",
   "execution_count": 1,
   "id": "26009294",
   "metadata": {},
   "outputs": [
    {
     "name": "stdout",
     "output_type": "stream",
     "text": [
      "0    1\n",
      "1    2\n",
      "2    3\n",
      "3    4\n",
      "4    5\n",
      "dtype: int64\n"
     ]
    }
   ],
   "source": [
    "\n",
    "# todo:\n",
    "\n",
    "import pandas as pd\n",
    "import random\n",
    "\n",
    "serie_numeros = pd.Series([1, 2, 3, 4, 5])\n",
    "print(serie_numeros)\n",
    "\n"
   ]
  },
  {
   "cell_type": "code",
   "execution_count": 2,
   "id": "4e42bfe4",
   "metadata": {},
   "outputs": [
    {
     "name": "stdout",
     "output_type": "stream",
     "text": [
      "Argentina    Buenos Aires\n",
      "Brasil           Brasilia\n",
      "España             Madrid\n",
      "Paraguay         Asunción\n",
      "Francia             Paris\n",
      "dtype: object\n"
     ]
    }
   ],
   "source": [
    "paises = {\n",
    "    'Argentina':'Buenos Aires',\n",
    "    'Brasil':'Brasilia',\n",
    "    'España':'Madrid',\n",
    "    'Paraguay':'Asunción',\n",
    "    'Francia':'Paris'\n",
    "}\n",
    "\n",
    "serie_paises = pd.Series(paises)\n",
    "print(serie_paises)"
   ]
  },
  {
   "cell_type": "markdown",
   "id": "0c239195",
   "metadata": {},
   "source": [
    "### **Actividad 2:** \n",
    "Acceso y selección de elementos.\n",
    "* Usa una Series con tareas (que haceres cotidianos) de una semana\n",
    "* Accede a diferentes elementos a elección.\n",
    "* Cambia los valores de los dias pares.\n"
   ]
  },
  {
   "cell_type": "code",
   "execution_count": 3,
   "id": "3611d25a",
   "metadata": {},
   "outputs": [
    {
     "name": "stdout",
     "output_type": "stream",
     "text": [
      "Tareas de la semana\n",
      "Lunes        Limpiar la cocina\n",
      "Martes           Hacer compras\n",
      "Miercoles        Lavar la ropa\n",
      "Jueves                Estudiar\n",
      "Viernes        Sacar la basura\n",
      "Sabado           Lavar el auto\n",
      "Domingo              Descansar\n",
      "dtype: object\n"
     ]
    }
   ],
   "source": [
    "\n",
    "# todo:\n",
    "\n",
    "tareas = pd.Series({\n",
    "    'Lunes':'Limpiar la cocina',\n",
    "    'Martes':'Hacer compras',\n",
    "    'Miercoles':'Lavar la ropa',\n",
    "    'Jueves':'Estudiar',\n",
    "    'Viernes':'Sacar la basura',\n",
    "    'Sabado':'Lavar el auto',\n",
    "    'Domingo':'Descansar'\n",
    "})\n",
    "\n",
    "print(\"Tareas de la semana\")\n",
    "print(tareas)"
   ]
  },
  {
   "cell_type": "code",
   "execution_count": 4,
   "id": "0dd296ee",
   "metadata": {},
   "outputs": [
    {
     "name": "stdout",
     "output_type": "stream",
     "text": [
      "\n",
      "Tarea del Lunes:  Limpiar la cocina\n",
      "Tarea del Miercoles:  Lavar la ropa\n"
     ]
    },
    {
     "name": "stderr",
     "output_type": "stream",
     "text": [
      "C:\\Users\\IPF-2025\\AppData\\Local\\Temp\\ipykernel_19460\\3447201535.py:2: FutureWarning: Series.__getitem__ treating keys as positions is deprecated. In a future version, integer keys will always be treated as labels (consistent with DataFrame behavior). To access a value by position, use `ser.iloc[pos]`\n",
      "  print(\"Tarea del Miercoles: \", tareas[2])\n"
     ]
    }
   ],
   "source": [
    "print(\"\\nTarea del Lunes: \", tareas['Lunes'])\n",
    "print(\"Tarea del Miercoles: \", tareas[2])"
   ]
  },
  {
   "cell_type": "code",
   "execution_count": 6,
   "id": "ab52066b",
   "metadata": {},
   "outputs": [
    {
     "name": "stdout",
     "output_type": "stream",
     "text": [
      "Lunes           Regar las plantas\n",
      "Martes              Hacer compras\n",
      "Miercoles           Pagar cuentas\n",
      "Jueves                   Estudiar\n",
      "Viernes            Ir al gymnasio\n",
      "Sabado              Lavar el auto\n",
      "Domingo      Visitar a mis amigos\n",
      "dtype: object\n"
     ]
    },
    {
     "name": "stderr",
     "output_type": "stream",
     "text": [
      "C:\\Users\\IPF-2025\\AppData\\Local\\Temp\\ipykernel_19460\\2459924849.py:1: FutureWarning: Series.__setitem__ treating keys as positions is deprecated. In a future version, integer keys will always be treated as labels (consistent with DataFrame behavior). To set a value by position, use `ser.iloc[pos] = value`\n",
      "  tareas[0] = 'Regar las plantas'\n",
      "C:\\Users\\IPF-2025\\AppData\\Local\\Temp\\ipykernel_19460\\2459924849.py:2: FutureWarning: Series.__setitem__ treating keys as positions is deprecated. In a future version, integer keys will always be treated as labels (consistent with DataFrame behavior). To set a value by position, use `ser.iloc[pos] = value`\n",
      "  tareas[2] = 'Pagar cuentas'\n",
      "C:\\Users\\IPF-2025\\AppData\\Local\\Temp\\ipykernel_19460\\2459924849.py:3: FutureWarning: Series.__setitem__ treating keys as positions is deprecated. In a future version, integer keys will always be treated as labels (consistent with DataFrame behavior). To set a value by position, use `ser.iloc[pos] = value`\n",
      "  tareas[4] = 'Ir al gymnasio'\n",
      "C:\\Users\\IPF-2025\\AppData\\Local\\Temp\\ipykernel_19460\\2459924849.py:4: FutureWarning: Series.__setitem__ treating keys as positions is deprecated. In a future version, integer keys will always be treated as labels (consistent with DataFrame behavior). To set a value by position, use `ser.iloc[pos] = value`\n",
      "  tareas[6] = 'Visitar a mis amigos'\n"
     ]
    }
   ],
   "source": [
    "tareas[0] = 'Regar las plantas'\n",
    "tareas[2] = 'Pagar cuentas'\n",
    "tareas[4] = 'Ir al gymnasio'\n",
    "tareas[6] = 'Visitar a mis amigos'\n",
    "\n",
    "print(tareas)"
   ]
  },
  {
   "cell_type": "markdown",
   "id": "70a24b97",
   "metadata": {},
   "source": [
    "### **Actividad 3:**\n",
    "Operaciones aritméticas. \n",
    "* Realiza las operaciones basicas con 2 series cuales quieran.\n",
    "* Eleva los valores de la primer serie a 3 potencias difetentes."
   ]
  },
  {
   "cell_type": "code",
   "execution_count": null,
   "id": "a9c8ebc7",
   "metadata": {},
   "outputs": [
    {
     "name": "stdout",
     "output_type": "stream",
     "text": [
      "Serie 1:\n",
      "0    1\n",
      "1    2\n",
      "2    3\n",
      "3    4\n",
      "4    5\n",
      "dtype: int64\n",
      "\n",
      "Serie 2:\n",
      "0     1\n",
      "1    74\n",
      "2    77\n",
      "3    65\n",
      "4     9\n",
      "dtype: int64\n",
      "\n",
      "Suma:\n",
      "0     2\n",
      "1    76\n",
      "2    80\n",
      "3    69\n",
      "4    14\n",
      "dtype: int64\n",
      "\n",
      "Resta:\n",
      "0     0\n",
      "1    72\n",
      "2    74\n",
      "3    61\n",
      "4     4\n",
      "dtype: int64\n",
      "\n",
      "Multiplicacion:\n",
      "0      1\n",
      "1    148\n",
      "2    231\n",
      "3    260\n",
      "4     45\n",
      "dtype: int64\n",
      "\n",
      "División:\n",
      "0     1.000000\n",
      "1    37.000000\n",
      "2    25.666667\n",
      "3    16.250000\n",
      "4     1.800000\n",
      "dtype: float64\n"
     ]
    }
   ],
   "source": [
    "\n",
    "# todo:\n",
    "\n",
    "serie_segunda = pd.Series(random.randint(1, 100)for i in range(5))\n",
    "print(\"Serie 1:\")\n",
    "print(serie_numeros)\n",
    "print(\"\\nSerie 2:\")\n",
    "print(serie_segunda)\n",
    "\n",
    "\n",
    "# Realizamos la suma\n",
    "suma = serie_numeros + serie_segunda\n",
    "print(\"\\nSuma:\")\n",
    "print(suma)\n",
    "\n",
    "# Realizamos la resta\n",
    "resta = serie_segunda - serie_numeros\n",
    "print(\"\\nResta:\")\n",
    "print(resta)\n",
    "\n",
    "# Realizamos la multiplicacion\n",
    "multiplicacion = serie_numeros * serie_segunda\n",
    "print(\"\\nMultiplicacion:\")\n",
    "print(multiplicacion)\n",
    "\n",
    "# Realizamos la división\n",
    "division = serie_segunda / serie_numeros\n",
    "print(\"\\nDivisión:\")\n",
    "print(division)\n",
    "\n",
    "print(\"\\nSerie 1 al cuadrado:\")\n",
    "print(serie_numeros ** 2)\n",
    "\n",
    "print(\"\\nSerie 1 al cubo:\")\n",
    "print(serie_numeros ** 3)\n",
    "\n",
    "print(\"\\nSerie 1 a la cuarta potencia\")\n",
    "print(serie_numeros ** 4)\n"
   ]
  },
  {
   "cell_type": "markdown",
   "id": "b8dac397",
   "metadata": {},
   "source": [
    "### **Actividad 4:** \n",
    "Filtrado con condiciones.\n",
    "* Crea una Series de edades de 10 personas.\n",
    "* Muestra solo a los mayores de 18.\n",
    "* Reemplaza a los menores por \"Menor de edad\"."
   ]
  },
  {
   "cell_type": "code",
   "execution_count": 14,
   "id": "d04fd492",
   "metadata": {},
   "outputs": [
    {
     "name": "stdout",
     "output_type": "stream",
     "text": [
      "Series original de edades:\n",
      "Ana       15\n",
      "Bruno     22\n",
      "Carlos    18\n",
      "Diana     30\n",
      "Eva       12\n",
      "Fabián    25\n",
      "Gaby      40\n",
      "Hugo      17\n",
      "Irene     19\n",
      "Juan      16\n",
      "dtype: int64\n",
      "\n",
      "Personas mayores de 18:\n",
      "Bruno     22\n",
      "Diana     30\n",
      "Fabián    25\n",
      "Gaby      40\n",
      "Irene     19\n",
      "dtype: int64\n",
      "\n",
      "Edades con menores reemplazados:\n",
      "Ana       Menor de edad\n",
      "Bruno                22\n",
      "Carlos    Menor de edad\n",
      "Diana                30\n",
      "Eva       Menor de edad\n",
      "Fabián               25\n",
      "Gaby                 40\n",
      "Hugo      Menor de edad\n",
      "Irene                19\n",
      "Juan      Menor de edad\n",
      "dtype: object\n"
     ]
    },
    {
     "name": "stderr",
     "output_type": "stream",
     "text": [
      "C:\\Users\\IPF-2025\\AppData\\Local\\Temp\\ipykernel_19460\\2991272903.py:15: FutureWarning: Setting an item of incompatible dtype is deprecated and will raise an error in a future version of pandas. Value 'Menor de edad' has dtype incompatible with int64, please explicitly cast to a compatible dtype first.\n",
      "  edades_filtradas[edades_filtradas <= 18] = \"Menor de edad\"\n"
     ]
    }
   ],
   "source": [
    "\n",
    "# todo:\n",
    "\n",
    "edades = pd.Series([15, 22, 18, 30, 12, 25, 40, 17, 19, 16], index=['Ana', 'Bruno', 'Carlos', 'Diana', 'Eva', 'Fabián', 'Gaby', 'Hugo', 'Irene', 'Juan'])\n",
    "\n",
    "print(\"Series original de edades:\")\n",
    "print(edades)\n",
    "\n",
    "# Mostrar solo los mayores de 18\n",
    "mayores = edades[edades > 18]\n",
    "print(\"\\nPersonas mayores de 18:\")\n",
    "print(mayores)\n",
    "\n",
    "# Reemplazar a los menores de edad por \"Menor de edad\"\n",
    "edades_filtradas = edades.copy()\n",
    "edades_filtradas[edades_filtradas <= 18] = \"Menor de edad\"\n",
    "\n",
    "print(\"\\nEdades con menores reemplazados:\")\n",
    "print(edades_filtradas)\n"
   ]
  },
  {
   "cell_type": "markdown",
   "id": "8889d0f2",
   "metadata": {},
   "source": [
    "### Actividad 5:\n",
    "Estadísticas básicas.\n",
    "\n",
    "* Crea una Series con las notas de 10 estudiantes.\n",
    "* Calcula la media, mediana, desviación estándar y máximo.\n",
    "* Muestra cuántos estudiantes aprobaron si el mínimo para aprobar es 6.\n",
    "* Ordenar las notas de manera ascendente y descendente. "
   ]
  },
  {
   "cell_type": "code",
   "execution_count": null,
   "id": "bc0ec844",
   "metadata": {},
   "outputs": [
    {
     "name": "stdout",
     "output_type": "stream",
     "text": [
      "Mariano     6\n",
      "Soledad     5\n",
      "Maria       7\n",
      "Jose        8\n",
      "Martin      9\n",
      "Lucas      10\n",
      "Micaela     9\n",
      "Jimena      6\n",
      "Carlos      8\n",
      "Tobias      7\n",
      "dtype: int64\n"
     ]
    }
   ],
   "source": [
    "\n",
    "# todo:\n",
    "\n",
    "notas = pd.Series([6, 5, 7, 8, 9, 10, 9, 6, 8, 7], index = ['Mariano', 'Soledad', 'Maria', 'Jose', 'Martin', 'Lucas', 'Micaela', 'Jimena', 'Carlos', 'Tobias'])\n",
    "print(\"Notas de los estudiantes:\")\n",
    "print(notas)\n"
   ]
  },
  {
   "cell_type": "code",
   "execution_count": 17,
   "id": "0a857840",
   "metadata": {},
   "outputs": [
    {
     "name": "stdout",
     "output_type": "stream",
     "text": [
      "\n",
      "Estadísticas:\n",
      "Media: 7.5\n",
      "Mediana: 7.5\n",
      "Desviación estándar: 1.5811388300841898\n",
      "Nota máxima: 10\n"
     ]
    }
   ],
   "source": [
    "media = notas.mean()\n",
    "mediana = notas.median()\n",
    "desviacion = notas.std()\n",
    "maximo = notas.max()\n",
    "\n",
    "print(\"\\nEstadísticas:\")\n",
    "print(f\"Media: {media}\")\n",
    "print(f\"Mediana: {mediana}\")\n",
    "print(f\"Desviación estándar: {desviacion}\")\n",
    "print(f\"Nota máxima: {maximo}\")"
   ]
  },
  {
   "cell_type": "code",
   "execution_count": null,
   "id": "d7a090db",
   "metadata": {},
   "outputs": [
    {
     "name": "stdout",
     "output_type": "stream",
     "text": [
      "\n",
      "Cantidad de estudiantes aprobados es de  9\n",
      "\n",
      "Notas ordenadas de manera ascendente:\n",
      "Soledad     5\n",
      "Mariano     6\n",
      "Jimena      6\n",
      "Maria       7\n",
      "Tobias      7\n",
      "Jose        8\n",
      "Carlos      8\n",
      "Martin      9\n",
      "Micaela     9\n",
      "Lucas      10\n",
      "dtype: int64\n",
      "\n",
      "Notas ordenadas de manera descendente:\n",
      "Lucas      10\n",
      "Martin      9\n",
      "Micaela     9\n",
      "Jose        8\n",
      "Carlos      8\n",
      "Maria       7\n",
      "Tobias      7\n",
      "Mariano     6\n",
      "Jimena      6\n",
      "Soledad     5\n",
      "dtype: int64\n"
     ]
    }
   ],
   "source": [
    "aprobados = (notas >= 6).sum()\n",
    "print(f\"\\nCantidad de estudiantes aprobados es de: {aprobados}\")\n",
    "\n",
    "# Ordenar las notas\n",
    "print(\"\\nNotas ordenadas de manera ascendente:\")\n",
    "print(notas.sort_values())\n",
    "\n",
    "print(\"\\nNotas ordenadas de manera descendente:\")\n",
    "print(notas.sort_values(ascending=False))"
   ]
  }
 ],
 "metadata": {
  "kernelspec": {
   "display_name": "env",
   "language": "python",
   "name": "python3"
  },
  "language_info": {
   "codemirror_mode": {
    "name": "ipython",
    "version": 3
   },
   "file_extension": ".py",
   "mimetype": "text/x-python",
   "name": "python",
   "nbconvert_exporter": "python",
   "pygments_lexer": "ipython3",
   "version": "3.12.9"
  }
 },
 "nbformat": 4,
 "nbformat_minor": 5
}
